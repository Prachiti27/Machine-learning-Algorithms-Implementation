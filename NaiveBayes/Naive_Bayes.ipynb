{
  "nbformat": 4,
  "nbformat_minor": 0,
  "metadata": {
    "colab": {
      "provenance": []
    },
    "kernelspec": {
      "name": "python3",
      "display_name": "Python 3"
    },
    "language_info": {
      "name": "python"
    }
  },
  "cells": [
    {
      "cell_type": "markdown",
      "source": [
        "The naive bayes is a probabilistic classifier based on applying Bayes' theorem with strong(naive) independence assymptions between the features\n",
        "\n",
        "Asuumption : features are mutually independent"
      ],
      "metadata": {
        "id": "fmItlQnQB2Bx"
      }
    },
    {
      "cell_type": "code",
      "source": [
        "import numpy as np"
      ],
      "metadata": {
        "id": "q2Pin8hvCEBi"
      },
      "execution_count": 1,
      "outputs": []
    },
    {
      "cell_type": "code",
      "source": [
        "class Naive_bayes:\n",
        "\n",
        "  def fit(self, X, Y):\n",
        "    n_samples, n_features = X.shape\n",
        "    self._classes = np.unique(Y)\n",
        "    n_classes = len(self._classes)\n",
        "\n",
        "    self._mean = np.zeros((n_classes, n_features), dtype=np.float64)\n",
        "    self._var = np.zeros((n_classes, n_features),dtype=np.float64)\n",
        "    self._priors = np.zeros(n_classes, dtype=np.float64)\n",
        "\n",
        "    for idx, c in enumerate(self._classes):\n",
        "      X_c = X[c == Y]\n",
        "      self._mean[idx, :] = X_c.mean(axis=0)\n",
        "      self._var[idx, :] = X_c.var(axis=0)\n",
        "      self._priors[idx] = X_c.shape[0] / float(n_samples)\n",
        "\n",
        "  def predict(self, X):\n",
        "    Y_pred = [self._predict(x) for x in X]\n",
        "    return np.array(Y_pred)\n",
        "\n",
        "  def _predict(self, x):\n",
        "    posteriors = []\n",
        "\n",
        "    for idx, c in enumerate(self._classes):\n",
        "      prior = np.log(self._priors[idx])\n",
        "      class_conditional = np.sum(np.log(self._pdf(idx, x)))\n",
        "      posterior = prior + class_conditional\n",
        "      posteriors.append(posterior)\n",
        "\n",
        "    return self._classes[np.argmax(posteriors)]\n",
        "\n",
        "  def _pdf(self, class_idx, x):\n",
        "    mean = self._mean[class_idx]\n",
        "    var = self._var[class_idx]\n",
        "    numerator = np.exp(-(x - mean) ** 2 / (2 * var))\n",
        "    denominator = np.sqrt(2 * np.pi * var)\n",
        "    return numerator / denominator"
      ],
      "metadata": {
        "id": "SBkTb8xSC_Uv"
      },
      "execution_count": 53,
      "outputs": []
    },
    {
      "cell_type": "code",
      "source": [
        "from sklearn.model_selection import train_test_split\n",
        "from sklearn import datasets"
      ],
      "metadata": {
        "id": "e8Khz7TmEz7M"
      },
      "execution_count": 54,
      "outputs": []
    },
    {
      "cell_type": "code",
      "source": [
        "def accuracy(Y_true, Y_pred):\n",
        "  accuracy = np.sum(Y_true == Y_pred) / len(Y_true)\n",
        "  return accuracy"
      ],
      "metadata": {
        "id": "ghXxydk2E8PF"
      },
      "execution_count": 55,
      "outputs": []
    },
    {
      "cell_type": "code",
      "source": [
        "X, Y = datasets.make_classification(\n",
        "    n_samples=1000, n_features=10, n_classes=2, random_state=123\n",
        ")"
      ],
      "metadata": {
        "id": "9b6m-t7uFMoG"
      },
      "execution_count": 57,
      "outputs": []
    },
    {
      "cell_type": "code",
      "source": [
        "X_train, X_test, Y_train, Y_test = train_test_split(\n",
        "    X, Y, test_size=0.2, random_state=123\n",
        ")"
      ],
      "metadata": {
        "id": "Sex-nCTgFYM5"
      },
      "execution_count": 58,
      "outputs": []
    },
    {
      "cell_type": "code",
      "source": [
        "nb = Naive_bayes()\n",
        "nb.fit(X_train, Y_train)"
      ],
      "metadata": {
        "id": "m_XZA0q2FjOe"
      },
      "execution_count": 59,
      "outputs": []
    },
    {
      "cell_type": "code",
      "source": [
        "predictions = nb.predict(X_test)"
      ],
      "metadata": {
        "id": "aq1nKS_mFrE3"
      },
      "execution_count": 60,
      "outputs": []
    },
    {
      "cell_type": "code",
      "source": [
        "print(\"Niave bayes classification accuracy : \",accuracy(Y_test, predictions))"
      ],
      "metadata": {
        "colab": {
          "base_uri": "https://localhost:8080/"
        },
        "id": "PILrHiLdFu1M",
        "outputId": "fce11775-edc9-4ec4-b913-ced08d871023"
      },
      "execution_count": 61,
      "outputs": [
        {
          "output_type": "stream",
          "name": "stdout",
          "text": [
            "Niave bayes classification accuracy :  0.965\n"
          ]
        }
      ]
    },
    {
      "cell_type": "code",
      "source": [],
      "metadata": {
        "id": "j7_9WijGGRqk"
      },
      "execution_count": null,
      "outputs": []
    }
  ]
}