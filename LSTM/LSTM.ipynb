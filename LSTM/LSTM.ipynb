{
  "nbformat": 4,
  "nbformat_minor": 0,
  "metadata": {
    "colab": {
      "provenance": []
    },
    "kernelspec": {
      "name": "python3",
      "display_name": "Python 3"
    },
    "language_info": {
      "name": "python"
    }
  },
  "cells": [
    {
      "cell_type": "code",
      "execution_count": 1,
      "metadata": {
        "id": "K_gdBR2Y33VQ"
      },
      "outputs": [],
      "source": [
        "import numpy as np"
      ]
    },
    {
      "cell_type": "code",
      "source": [
        "import tensorflow as tf"
      ],
      "metadata": {
        "id": "iBinzMbGCLiZ"
      },
      "execution_count": 2,
      "outputs": []
    },
    {
      "cell_type": "code",
      "source": [
        "from tensorflow.keras.layers import Input\n",
        "from tensorflow.keras.layers import LSTM as KLSTM\n",
        "from tensorflow.keras.models import Model\n",
        "from tensorflow.keras.initializers import Orthogonal, GlorotUniform, Zeros"
      ],
      "metadata": {
        "id": "Urao1U8WCU8x"
      },
      "execution_count": 3,
      "outputs": []
    },
    {
      "cell_type": "code",
      "source": [
        "num_inputs = 3  # number of input features\n",
        "lstm_units = 32\n",
        "lookback_steps = 5  # also known as time_steps or sequence length\n",
        "num_samples = 10  # length of x,y"
      ],
      "metadata": {
        "id": "9qYWhJIOCV6u"
      },
      "execution_count": 4,
      "outputs": []
    },
    {
      "cell_type": "code",
      "source": [
        "k_init = GlorotUniform(seed=313)\n",
        "k_vals = k_init(shape=(num_inputs, lstm_units*4))\n",
        "\n",
        "rec_init = Orthogonal(seed=313)\n",
        "rec_vals = rec_init(shape=(lstm_units, lstm_units*4))\n",
        "\n",
        "b_init = Zeros()\n",
        "b_vals = b_init(lstm_units*4)\n",
        "\n",
        "weights = [k_vals, rec_vals, b_vals]"
      ],
      "metadata": {
        "id": "o5NBOeLJCcX9"
      },
      "execution_count": 5,
      "outputs": []
    },
    {
      "cell_type": "code",
      "source": [
        "# check the results of forward pass of original LSTM of Keras\n",
        "\n",
        "inp = Input(shape=(lookback_steps, num_inputs))\n",
        "lstm_lyr = KLSTM(lstm_units)\n",
        "out = lstm_lyr(inp)\n",
        "\n",
        "lstm_lyr.set_weights(weights)\n",
        "\n",
        "model = Model(inputs=inp, outputs=out)\n",
        "\n",
        "xx = np.random.random((num_samples, lookback_steps, num_inputs))\n",
        "\n",
        "lstm_out_tf = model.predict(x=xx)"
      ],
      "metadata": {
        "colab": {
          "base_uri": "https://localhost:8080/"
        },
        "id": "AVpQkVRXCfD0",
        "outputId": "04eeaaf4-3cc4-4c42-ffff-93c0c5d520fe"
      },
      "execution_count": 6,
      "outputs": [
        {
          "output_type": "stream",
          "name": "stdout",
          "text": [
            "\u001b[1m1/1\u001b[0m \u001b[32m━━━━━━━━━━━━━━━━━━━━\u001b[0m\u001b[37m\u001b[0m \u001b[1m0s\u001b[0m 283ms/step\n"
          ]
        }
      ]
    },
    {
      "cell_type": "code",
      "source": [
        "#LSTM in numpy\n",
        "class LSTMNP(object):\n",
        "    def __init__(\n",
        "            self,\n",
        "            units:int,\n",
        "            return_sequences:bool = False,\n",
        "            return_states:bool = False,\n",
        "            time_major:bool = False\n",
        "    ):\n",
        "        self.units = units\n",
        "        self.return_sequences = return_sequences\n",
        "        self.return_states = return_states\n",
        "        self.time_major = time_major\n",
        "\n",
        "        self.kernel = k_vals.numpy()\n",
        "        self.rec_kernel = rec_vals.numpy()\n",
        "        self.bias = b_vals.numpy()\n",
        "\n",
        "\n",
        "    def __call__(self, inputs, initial_state=None):\n",
        "        # if not time_major original inputs have shape (batch_size, lookback_steps, num_inputs)\n",
        "        # otherwise inputs will have shape (lookback_steps, batch_size, num_inputs)\n",
        "\n",
        "        if not self.time_major:\n",
        "            inputs = np.moveaxis(inputs, [0, 1], [1, 0])\n",
        "\n",
        "        # inputs have shape (lookback_steps, batch_size, num_inputs)\n",
        "        lookback_steps, bs, ins = inputs.shape\n",
        "\n",
        "        if initial_state is None:\n",
        "            h_state = np.zeros((bs, self.units))\n",
        "            c_state = np.zeros((bs, self.units))\n",
        "        else:\n",
        "            assert len(initial_state) == 2\n",
        "            h_state, c_state = initial_state\n",
        "\n",
        "        h_states = []\n",
        "        c_states = []\n",
        "\n",
        "        for step in range(lookback_steps):\n",
        "\n",
        "            h_state, c_state = self.cell(inputs[step], h_state, c_state)\n",
        "\n",
        "            h_states.append(h_state)\n",
        "            c_states.append(c_state)\n",
        "\n",
        "        h_states = np.stack(h_states)\n",
        "        c_states = np.stack(c_states)\n",
        "\n",
        "        if not self.time_major:\n",
        "            h_states = np.moveaxis(h_states, [0, 1], [1, 0])\n",
        "            c_states = np.moveaxis(c_states, [0, 1], [1, 0])\n",
        "\n",
        "        o = h_states[:, -1]\n",
        "        if self.return_sequences:\n",
        "            o = h_states\n",
        "\n",
        "        if self.return_states:\n",
        "            return o, c_states\n",
        "        return o\n",
        "\n",
        "    def cell(self, xt, ht, ct):\n",
        "        \"\"\"implements logic of LSTM\"\"\"\n",
        "\n",
        "        # input gate\n",
        "        k_i = self.kernel[:, :self.units]\n",
        "        rk_i = self.rec_kernel[:, :self.units]\n",
        "        b_i = self.bias[:self.units]\n",
        "        i_t = self.sigmoid(np.dot(xt, k_i) + np.dot(ht, rk_i) + b_i)\n",
        "\n",
        "        # forget gate\n",
        "        k_f = self.kernel[:, self.units:self.units * 2]\n",
        "        rk_f = self.rec_kernel[:, self.units:self.units * 2]\n",
        "        b_f = self.bias[self.units:self.units * 2]\n",
        "        ft = self.sigmoid(np.dot(xt, k_f) + np.dot(ht, rk_f) + b_f)\n",
        "\n",
        "        # candidate cell state\n",
        "        k_c = self.kernel[:, self.units * 2:self.units * 3]\n",
        "        rk_c = self.rec_kernel[:, self.units * 2:self.units * 3]\n",
        "        b_c = self.bias[self.units * 2:self.units * 3]\n",
        "        c_t = self.tanh(np.dot(xt, k_c) + np.dot(ht, rk_c) + b_c)\n",
        "\n",
        "        # cell state\n",
        "        ct = ft * ct + i_t * c_t\n",
        "\n",
        "        # output gate\n",
        "        k_o = self.kernel[:, self.units * 3:]\n",
        "        rk_o = self.rec_kernel[:, self.units * 3:]\n",
        "        b_o = self.bias[self.units * 3:]\n",
        "        ot = self.sigmoid(np.dot(xt, k_o) + np.dot(ht, rk_o) + b_o)\n",
        "\n",
        "        # hidden state\n",
        "        ht = ot * self.tanh(ct)\n",
        "\n",
        "        return ht, ct\n",
        "\n",
        "    @staticmethod\n",
        "    def tanh(x):\n",
        "        return np.tanh(x)\n",
        "\n",
        "    @staticmethod\n",
        "    def sigmoid(x):\n",
        "        return 1. / (1 + np.exp(-x))"
      ],
      "metadata": {
        "id": "o5JpENQ_B82V"
      },
      "execution_count": 7,
      "outputs": []
    },
    {
      "cell_type": "code",
      "source": [
        "nplstm = LSTMNP(lstm_units)\n",
        "lstm_out_np = nplstm(xx)"
      ],
      "metadata": {
        "id": "F0890ZzyCuQh"
      },
      "execution_count": 8,
      "outputs": []
    },
    {
      "cell_type": "code",
      "source": [
        "print(np.allclose(lstm_out_tf, lstm_out_np))"
      ],
      "metadata": {
        "colab": {
          "base_uri": "https://localhost:8080/"
        },
        "id": "SDQ4PSTsCwSw",
        "outputId": "a4df911e-1323-4be3-a773-11c6e7cb1276"
      },
      "execution_count": 9,
      "outputs": [
        {
          "output_type": "stream",
          "name": "stdout",
          "text": [
            "True\n"
          ]
        }
      ]
    }
  ]
}