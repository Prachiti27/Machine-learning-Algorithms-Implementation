{
  "nbformat": 4,
  "nbformat_minor": 0,
  "metadata": {
    "colab": {
      "provenance": []
    },
    "kernelspec": {
      "name": "python3",
      "display_name": "Python 3"
    },
    "language_info": {
      "name": "python"
    }
  },
  "cells": [
    {
      "cell_type": "code",
      "execution_count": 4,
      "metadata": {
        "id": "gvhU7ARrv5u5"
      },
      "outputs": [],
      "source": [
        "import numpy as np"
      ]
    },
    {
      "cell_type": "code",
      "source": [
        "np.random.seed(1)"
      ],
      "metadata": {
        "id": "FN5r9bHZzNd4"
      },
      "execution_count": 5,
      "outputs": []
    },
    {
      "cell_type": "code",
      "source": [
        "def bin2int(bin_list):\n",
        "  int_val = \"\"\n",
        "  for k in bin_list:\n",
        "    int_val += str(int(k))\n",
        "\n",
        "  return int(int_val, 2)"
      ],
      "metadata": {
        "id": "tL1b_55LzPke"
      },
      "execution_count": 6,
      "outputs": []
    },
    {
      "cell_type": "code",
      "source": [
        "def dataset(num):\n",
        "  bin_len = 8\n",
        "  X = np.zeros((num, bin_len))\n",
        "  Y = np.zeros((num))\n",
        "\n",
        "  for i in range(num):\n",
        "    X[i] = np.around(np.random.rand(bin_len)).astype(int)\n",
        "    Y[i] = bin2int(X[i])\n",
        "\n",
        "  return X,Y"
      ],
      "metadata": {
        "id": "_o9fVJJHzenm"
      },
      "execution_count": 7,
      "outputs": []
    },
    {
      "cell_type": "code",
      "source": [
        "no_of_smaples = 20"
      ],
      "metadata": {
        "id": "387fIU2hz1Xl"
      },
      "execution_count": 16,
      "outputs": []
    },
    {
      "cell_type": "code",
      "source": [
        "X_train, Y_train = dataset(no_of_smaples)\n",
        "X_test, Y_test = dataset(5)"
      ],
      "metadata": {
        "id": "0R4-wjoCz3Rt"
      },
      "execution_count": 17,
      "outputs": []
    },
    {
      "cell_type": "code",
      "source": [
        "class RNN:\n",
        "    def __init__(self):\n",
        "        self.W = [1, 1]\n",
        "        self.W_delta = [0.001, 0.001]\n",
        "        self.W_sign = [0, 0]\n",
        "\n",
        "        self.eta_p = 1.2\n",
        "        self.eta_n = 0.5\n",
        "\n",
        "    def state(self, xk, sk):\n",
        "        return xk * self.W[0] + sk * self.W[1]\n",
        "\n",
        "    def forward_states(self, X):\n",
        "        S = np.zeros((X.shape[0], X.shape[1]+1))\n",
        "        for k in range(0, X.shape[1]):\n",
        "            next_state = self.state(X[:,k], S[:,k])\n",
        "            S[:,k+1] = next_state\n",
        "        return S\n",
        "\n",
        "    def output_gradient(self, guess, real):\n",
        "        return 2 * (guess - real) / no_of_smaples\n",
        "\n",
        "    def backward_gradient(self, X, S, grad_out):\n",
        "        grad_over_time = np.zeros(( X.shape[0], X.shape[1]+1 ))\n",
        "        grad_over_time[:,-1] = grad_out\n",
        "\n",
        "        wx_grad = 0\n",
        "        wr_grad = 0\n",
        "        for k in range(X.shape[1], 0, -1):\n",
        "            wx_grad += np.sum( grad_over_time[:, k] * X[:, k-1] )\n",
        "            wr_grad += np.sum( grad_over_time[:, k] * S[:, k-1] )\n",
        "\n",
        "            grad_over_time[:, k-1] = grad_over_time[:, k] * self.W[1]\n",
        "        return (wx_grad, wr_grad), grad_over_time\n",
        "\n",
        "    def update_rprop(self, X, Y, W_prev_sign, W_delta):\n",
        "        S = self.forward_states(X)\n",
        "        grad_out =  self.output_gradient(S[:, -1], Y)\n",
        "        W_grads, _ = self.backward_gradient(X, S, grad_out)\n",
        "        self.W_sign = np.sign(W_grads)\n",
        "\n",
        "        for i, _ in enumerate(self.W):\n",
        "            if self.W_sign[i] == W_prev_sign[i]:\n",
        "                W_delta[i] *= self.eta_p\n",
        "            else:\n",
        "                W_delta[i] *= self.eta_n\n",
        "        self.W_delta = W_delta\n",
        "\n",
        "    def train(self, X, Y, training_epochs):\n",
        "        for epochs in range(training_epochs):\n",
        "            self.update_rprop(X, Y, self.W_sign, self.W_delta)\n",
        "\n",
        "            for i, _ in enumerate(self.W):\n",
        "                self.W[i] -= self.W_sign[i] * self.W_delta[i]"
      ],
      "metadata": {
        "id": "NlaqjYGr0BAO"
      },
      "execution_count": 18,
      "outputs": []
    },
    {
      "cell_type": "code",
      "source": [
        "rnn = RNN()"
      ],
      "metadata": {
        "id": "6Qa40RAD2tN6"
      },
      "execution_count": 19,
      "outputs": []
    },
    {
      "cell_type": "code",
      "source": [
        "rnn.train(X_train, Y_train, 20000)"
      ],
      "metadata": {
        "id": "LB0YayWP2u8m"
      },
      "execution_count": 20,
      "outputs": []
    },
    {
      "cell_type": "code",
      "source": [
        "print (\"Weight: \\t\", rnn.W)\n",
        "print (\"Real: \\t\\t\", Y_test)"
      ],
      "metadata": {
        "colab": {
          "base_uri": "https://localhost:8080/"
        },
        "id": "P0D_5nqP20nV",
        "outputId": "0890facf-a30f-4732-d3fb-5e3bf9950e2e"
      },
      "execution_count": 21,
      "outputs": [
        {
          "output_type": "stream",
          "name": "stdout",
          "text": [
            "Weight: \t [np.float64(1.000000000000186), np.float64(1.9999999999999396)]\n",
            "Real: \t\t [ 63. 132. 230.  37.  55.]\n"
          ]
        }
      ]
    },
    {
      "cell_type": "code",
      "source": [
        "y = rnn.forward_states(X_test)[:, -1]\n",
        "print (\"Predicted: \\t\",y)"
      ],
      "metadata": {
        "colab": {
          "base_uri": "https://localhost:8080/"
        },
        "id": "2CpoiQP03Rtp",
        "outputId": "5ed70b9f-e607-4a25-926f-989825571415"
      },
      "execution_count": 22,
      "outputs": [
        {
          "output_type": "stream",
          "name": "stdout",
          "text": [
            "Predicted: \t [ 63. 132. 230.  37.  55.]\n"
          ]
        }
      ]
    }
  ]
}