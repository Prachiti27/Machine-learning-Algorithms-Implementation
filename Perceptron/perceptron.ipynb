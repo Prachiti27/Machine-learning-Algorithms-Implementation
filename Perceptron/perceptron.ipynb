{
  "nbformat": 4,
  "nbformat_minor": 0,
  "metadata": {
    "colab": {
      "provenance": []
    },
    "kernelspec": {
      "name": "python3",
      "display_name": "Python 3"
    },
    "language_info": {
      "name": "python"
    }
  },
  "cells": [
    {
      "cell_type": "code",
      "execution_count": null,
      "metadata": {
        "id": "ibKhvnOvK-Mu"
      },
      "outputs": [],
      "source": [
        "import numpy as np"
      ]
    },
    {
      "cell_type": "code",
      "source": [
        "class MyPerceptron:\n",
        "  def __init__(self, learning_rate=0.1, no_of_iterations=1000):\n",
        "    self.learning_rate = learning_rate\n",
        "    self.no_of_iterations = no_of_iterations\n",
        "    self.weights = None\n",
        "    self.bias = None\n",
        "\n",
        "  def fit(self, X, Y):\n",
        "    self.weights = np.zeros(X.shape[1])\n",
        "    self.bias = 0\n",
        "    for epoch in range(self.no_of_iterations):\n",
        "      for i in range(X.shape[0]):\n",
        "        Y_pred = self.activation_function(np.dot(self.weights, X[i]) + self.bias)\n",
        "        self.weights = self.weights + self.learning_rate * (Y[i] - Y_pred)*X[i]\n",
        "        self.bias = self.bias + self.learning_rate * (Y[i] - Y_pred)\n",
        "\n",
        "  def activation_function(self, activation):\n",
        "      if activation>=0:\n",
        "        return 1\n",
        "      else:\n",
        "        return 0\n",
        "\n",
        "  def predict(self, X):\n",
        "    Y_pred = []\n",
        "    for i in range(X.shape[0]):\n",
        "      Y_pred.append(self.activation_function(np.dot(self.weights, X[i]) + self.bias))\n",
        "    return np.array(Y_pred)"
      ],
      "metadata": {
        "id": "WIh-vag8NOFU"
      },
      "execution_count": null,
      "outputs": []
    },
    {
      "cell_type": "code",
      "source": [
        "import pandas as pd\n",
        "from sklearn.metrics import accuracy_score\n",
        "from sklearn.model_selection import train_test_split\n",
        "from sklearn.datasets import make_classification\n",
        "from sklearn.preprocessing import StandardScaler"
      ],
      "metadata": {
        "id": "dDxtpe7WRNCG"
      },
      "execution_count": null,
      "outputs": []
    },
    {
      "cell_type": "code",
      "source": [
        "X, Y = make_classification(n_samples=1000, n_features=10, n_classes=2, random_state=42)"
      ],
      "metadata": {
        "id": "YIWiszztXJj2"
      },
      "execution_count": null,
      "outputs": []
    },
    {
      "cell_type": "code",
      "source": [
        "scaler = StandardScaler()\n",
        "X = scaler.fit_transform(X)"
      ],
      "metadata": {
        "id": "CjKVLYSBXOnc"
      },
      "execution_count": null,
      "outputs": []
    },
    {
      "cell_type": "code",
      "source": [
        "X_train, X_test, Y_train, Y_test = train_test_split(X, Y, test_size=0.2, random_state=42)"
      ],
      "metadata": {
        "id": "7af1yQGyXQcD"
      },
      "execution_count": null,
      "outputs": []
    },
    {
      "cell_type": "code",
      "source": [
        "model = MyPerceptron()"
      ],
      "metadata": {
        "id": "0OHb0ubTXTtL"
      },
      "execution_count": null,
      "outputs": []
    },
    {
      "cell_type": "code",
      "source": [
        "model.fit(X_train, Y_train)"
      ],
      "metadata": {
        "id": "9pKHjWOhXVW2"
      },
      "execution_count": null,
      "outputs": []
    },
    {
      "cell_type": "code",
      "source": [
        "predictions = model.predict(X_test)"
      ],
      "metadata": {
        "id": "pGp5rMO2XZT3"
      },
      "execution_count": null,
      "outputs": []
    },
    {
      "cell_type": "code",
      "source": [
        "accuracy = np.mean(predictions == Y_test)\n",
        "print(\"Accuracy:\", accuracy)"
      ],
      "metadata": {
        "id": "MQdktlW5XdoH",
        "outputId": "de270ff0-fe42-4565-a319-dba6f8f8d7c4",
        "colab": {
          "base_uri": "https://localhost:8080/"
        }
      },
      "execution_count": null,
      "outputs": [
        {
          "output_type": "stream",
          "name": "stdout",
          "text": [
            "Accuracy: 0.815\n"
          ]
        }
      ]
    },
    {
      "cell_type": "code",
      "source": [
        "Y_pred = model.predict(X_test)"
      ],
      "metadata": {
        "id": "r1oO2ub8XfxR"
      },
      "execution_count": 45,
      "outputs": []
    },
    {
      "cell_type": "code",
      "source": [
        "print(accuracy_score(Y_test, Y_pred))"
      ],
      "metadata": {
        "colab": {
          "base_uri": "https://localhost:8080/"
        },
        "id": "IXUJBgjrXqh8",
        "outputId": "806e5a30-4eb9-4bf1-f4c9-1742576388a2"
      },
      "execution_count": 46,
      "outputs": [
        {
          "output_type": "stream",
          "name": "stdout",
          "text": [
            "0.815\n"
          ]
        }
      ]
    }
  ]
}